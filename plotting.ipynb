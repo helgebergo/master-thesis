{
 "metadata": {
  "language_info": {
   "codemirror_mode": {
    "name": "ipython",
    "version": 3
   },
   "file_extension": ".py",
   "mimetype": "text/x-python",
   "name": "python",
   "nbconvert_exporter": "python",
   "pygments_lexer": "ipython3",
   "version": "3.9.4-final"
  },
  "orig_nbformat": 2,
  "kernelspec": {
   "name": "python38564bita23cbf7c4cb2484fb8aba78e31748525",
   "display_name": "Python 3.8.5 64-bit",
   "language": "python"
  },
  "metadata": {
   "interpreter": {
    "hash": "31f2aee4e71d21fbe5cf8b01ff0e069b9275f58929596ceb00d14d90e3e16cd6"
   }
  }
 },
 "nbformat": 4,
 "nbformat_minor": 2,
 "cells": [
  {
   "source": [
    "# Plotting and data analysis\n",
    "Using both `Python` and `R`"
   ],
   "cell_type": "markdown",
   "metadata": {}
  },
  {
   "cell_type": "code",
   "execution_count": 1,
   "metadata": {},
   "outputs": [],
   "source": [
    "import numpy as np\n",
    "import pandas as pd\n",
    "import matplotlib.pyplot as plt\n",
    "import matplotlib as mpl\n",
    "import seaborn as sns\n",
    "import time, sys, pickle\n",
    "import plotnine"
   ]
  },
  {
   "cell_type": "code",
   "execution_count": 2,
   "metadata": {},
   "outputs": [
    {
     "output_type": "stream",
     "name": "stderr",
     "text": [
      "R[write to console]: ── Attaching packages ─────────────────────────────────────── tidyverse 1.3.0 ──\n",
      "\n",
      "R[write to console]: ✔ ggplot2 3.3.3     ✔ purrr   0.3.4\n",
      "✔ tibble  3.1.0     ✔ dplyr   1.0.5\n",
      "✔ tidyr   1.1.3     ✔ stringr 1.4.0\n",
      "✔ readr   1.4.0     ✔ forcats 0.5.1\n",
      "\n",
      "R[write to console]: ── Conflicts ────────────────────────────────────────── tidyverse_conflicts() ──\n",
      "✖ dplyr::filter() masks stats::filter()\n",
      "✖ dplyr::lag()    masks stats::lag()\n",
      "\n",
      "R[write to console]: Loading required package: viridisLite\n",
      "\n"
     ]
    },
    {
     "output_type": "execute_result",
     "data": {
      "text/plain": [
       "<rpy2.robjects.vectors.StrVector object at 0x139ef4ec0> [RTYPES.STRSXP]\n",
       "R classes: ('character',)\n",
       "['ggridges', 'transfor..., 'gifski', 'gganimate', ..., 'utils', 'datasets', 'methods', 'base']"
      ],
      "text/html": "\n        <span>StrVector with 23 elements.</span>\n        <table>\n        <tbody>\n          <tr>\n          \n            <td>\n            'ggridges'\n            </td>\n          \n            <td>\n            'transfor...\n            </td>\n          \n            <td>\n            'gifski'\n            </td>\n          \n            <td>\n            ...\n            </td>\n          \n            <td>\n            'datasets'\n            </td>\n          \n            <td>\n            'methods'\n            </td>\n          \n            <td>\n            'base'\n            </td>\n          \n          </tr>\n        </tbody>\n        </table>\n        "
     },
     "metadata": {},
     "execution_count": 2
    }
   ],
   "source": [
    "import rpy2\n",
    "%load_ext rpy2.ipython\n",
    "%R library(tidyverse)\n",
    "%R library(viridis)\n",
    "%R library(gganimate)\n",
    "%R library(gifski)\n",
    "%R library(transformr)\n",
    "%R library(ggridges)"
   ]
  },
  {
   "source": [
    "### Load in the data"
   ],
   "cell_type": "markdown",
   "metadata": {}
  },
  {
   "cell_type": "code",
   "execution_count": null,
   "metadata": {},
   "outputs": [],
   "source": [
    "def data_wrangle(df):\n",
    "    df = df.groupby(['Municipality','CommuterFraction','MutationChance','Day']).mean().reset_index().drop(['RunID'],axis=1)\n",
    "    df['I'] = df[['Ia','Ip','Is']].sum(axis=1)\n",
    "    df.drop(['Ia','Ip','Is'], axis=1)\n",
    "    df = pd.melt(df, id_vars=['CommuterFraction','MutationChance','Municipality','Day','DailyR'], value_vars=['S','E','I','R','H','ICU','D'], var_name='State', value_name='Count')\n",
    "    df = df.rename(columns={'DailyR':'R'})\n",
    "    #df = df.loc[df['CommuterFraction'] <= 0.01]\n",
    "    return df"
   ]
  },
  {
   "cell_type": "code",
   "execution_count": null,
   "metadata": {},
   "outputs": [],
   "source": [
    "def calculate_means(df):\n",
    "    means_per_municipality = df.groupby(['Municipality','CommuterFraction','MutationChance','State']).mean().reset_index().drop(['Day'],axis=1)\n",
    "    means_per_day = df.groupby(['Day','CommuterFraction','MutationChance','State']).mean().reset_index()\n",
    "    means = means_per_day.groupby(['CommuterFraction','MutationChance']).mean().reset_index().drop(['Day','Count'],axis=1)\n",
    "\n",
    "    return means_per_municipality, means_per_day, means"
   ]
  },
  {
   "cell_type": "code",
   "execution_count": null,
   "metadata": {},
   "outputs": [],
   "source": [
    "df = data_wrangle(pd.read_csv(\"results/summaries/combinedResults_mutations.txt\"))\n",
    "means_per_municipality, means_per_day, means = calculate_means(df)\n",
    "\n",
    "df_seed = data_wrangle(pd.read_csv(\"results/summaries/combinedResults_mutationsSeed0.005.txt\"))\n",
    "means_per_municipality_seed, means_per_day_seed, means_seed = calculate_means(df_seed)\n",
    "\n",
    "df_seed1 = data_wrangle(pd.read_csv(\"results/summaries/combinedResults_mutationsSeed0.01.txt\"))\n",
    "means_per_municipality_seed1, means_per_day_seed1, means_seed1 = calculate_means(df_seed)\n",
    "\n",
    "df_commute = data_wrangle(pd.read_csv(\"results/summaries/combinedResults_mutations_commuters.txt\"))\n",
    "means_per_municipality_commute, means_per_day_commute, means_commute = calculate_means(df_commute)"
   ]
  },
  {
   "source": [
    "## Combining the dataframes"
   ],
   "cell_type": "markdown",
   "metadata": {}
  },
  {
   "cell_type": "code",
   "execution_count": null,
   "metadata": {},
   "outputs": [],
   "source": [
    "means_comb = df.groupby(['Municipality','CommuterFraction','MutationChance','Day','State']).mean().reset_index()\n",
    "means_comb_seed = df_seed.groupby(['Municipality','CommuterFraction','MutationChance','Day','State']).mean().reset_index()\n",
    "means_comb_seed1 = df_seed1.groupby(['Municipality','CommuterFraction','MutationChance','Day','State']).mean().reset_index()\n",
    "means_comb_commute = df_commute.groupby(['Municipality','CommuterFraction','MutationChance','Day','State']).mean().reset_index()\n",
    "\n",
    "means_comb['Seed'] = 'Trondheim only'\n",
    "means_comb_seed['Seed'] = 'All municipalities, 0.5%'\n",
    "means_comb_seed1['Seed'] = 'All municipalities, 1.0%'\n",
    "means_comb_commute['Seed'] = 'Trondheim, with commuting'\n",
    "\n",
    "#comb = pd.concat([means_comb, means_comb_seed, means_comb_seed1])\n",
    "comb = pd.concat([means_comb, means_comb_seed, means_comb_commute])\n",
    "comb"
   ]
  },
  {
   "cell_type": "code",
   "execution_count": null,
   "metadata": {},
   "outputs": [],
   "source": [
    "comb_means = comb.groupby(['Municipality','CommuterFraction','MutationChance','Seed']).mean().reset_index().drop(['Day','Count'],axis=1)\n",
    "comb_means"
   ]
  },
  {
   "cell_type": "code",
   "execution_count": null,
   "metadata": {},
   "outputs": [],
   "source": [
    "%%R -i comb_means\n",
    "comb_means$CommuterFraction = factor(comb_means$CommuterFraction)\n",
    "comb_means$MutationChance = factor(comb_means$MutationChance)\n",
    "\n",
    "comb_means %>%\n",
    "    ggplot(aes(MutationChance, R)) + \n",
    "    geom_boxplot(aes(fill=CommuterFraction), alpha=0.5) +\n",
    "    facet_wrap(~Seed) +\n",
    "    scale_fill_brewer() +\n",
    "    scale_color_brewer(palette='Set1') +\n",
    "    theme_minimal() +\n",
    "    labs(\n",
    "        x = 'Mutation Chance',\n",
    "        y = 'R',\n",
    "        title = 'Daily R for all municipalities',\n",
    "        subtitle = 'With two different seeding methods'\n",
    "    ) +\n",
    "    ylim(0,10) +\n",
    "    theme(legend.position=\"bottom\")"
   ]
  },
  {
   "cell_type": "code",
   "execution_count": null,
   "metadata": {},
   "outputs": [],
   "source": [
    "%R ggsave('boxplot_combination.png', plot = last_plot(), width = 8, height = 6, dpi=300, path='results/plots')"
   ]
  },
  {
   "source": [
    "### Heatmap of daily R"
   ],
   "cell_type": "markdown",
   "metadata": {}
  },
  {
   "cell_type": "code",
   "execution_count": null,
   "metadata": {},
   "outputs": [],
   "source": [
    "%%R -i means\n",
    "means %>%\n",
    "    ggplot(aes(x=MutationChance, y=CommuterFraction, fill=R)) + \n",
    "    geom_tile() +\n",
    "    theme_minimal() +\n",
    "    scale_fill_distiller(type='seq', direction=1)+#palette='YlGnBu') + \n",
    "    labs(\n",
    "        x = 'Mutation Chance',\n",
    "        y = 'Commuter Fraction',\n",
    "        title = 'Daily R for each municipality'\n",
    "    )"
   ]
  },
  {
   "cell_type": "code",
   "execution_count": null,
   "metadata": {},
   "outputs": [],
   "source": [
    "%R ggsave('heatmap.png', plot = last_plot(), width = 8, height = 6, dpi=300, path='results/plots')"
   ]
  },
  {
   "cell_type": "code",
   "execution_count": null,
   "metadata": {},
   "outputs": [],
   "source": [
    "%%R -i means_per_municipality\n",
    "means_per_municipality %>%\n",
    "    #filter(R > 0.0) %>%\n",
    "    #filter(State == 'S') %>%\n",
    "    ggplot(aes(x=MutationChance, y=CommuterFraction, fill=log(R))) + \n",
    "    geom_tile() +\n",
    "    facet_wrap(~Municipality) +\n",
    "    theme_minimal() +\n",
    "    scale_fill_distiller(type='seq', direction=1)+\n",
    "    labs(\n",
    "        x = 'Mutation Chance',\n",
    "        y = 'Commuter Fraction',\n",
    "        title = 'Daily R for each municipality'\n",
    "    )"
   ]
  },
  {
   "cell_type": "code",
   "execution_count": null,
   "metadata": {},
   "outputs": [],
   "source": [
    "%R ggsave('heatmap_fw.png', plot = last_plot(), width = 8, height = 6, dpi=300, path='results/plots')"
   ]
  },
  {
   "cell_type": "code",
   "execution_count": null,
   "metadata": {},
   "outputs": [],
   "source": [
    "%%R -i means_per_municipality\n",
    "means_per_municipality$CommuterFraction = factor(means_per_municipality$CommuterFraction)\n",
    "means_per_municipality$MutationChance = factor(means_per_municipality$MutationChance)\n",
    "\n",
    "means_per_municipality %>%\n",
    "    filter(R < 15) %>%\n",
    "    filter(State == 'S') %>%\n",
    "    ggplot(aes(MutationChance, R)) + \n",
    "    geom_boxplot(aes(fill=CommuterFraction)) +\n",
    "    scale_fill_brewer() +\n",
    "    theme_minimal() +\n",
    "    labs(\n",
    "        x = 'Mutation Chance',\n",
    "        y = 'R',\n",
    "        title = 'Daily R for all municipalities',\n",
    "        subtitle = 'Seeded initial run in Trondheim, timed run 30 days'\n",
    "    ) +\n",
    "    ylim(0,10) +\n",
    "    theme(legend.position=\"bottom\")"
   ]
  },
  {
   "cell_type": "code",
   "execution_count": null,
   "metadata": {},
   "outputs": [],
   "source": [
    "%R ggsave('boxplot_seedAll.png', plot = last_plot(), width = 8, height = 6, dpi=300, path='results/plots')"
   ]
  },
  {
   "cell_type": "code",
   "execution_count": null,
   "metadata": {},
   "outputs": [],
   "source": [
    "%%R -i means_per_municipality_seed\n",
    "means_per_municipality_seed$CommuterFraction = factor(means_per_municipality_seed$CommuterFraction)\n",
    "means_per_municipality_seed$MutationChance = factor(means_per_municipality_seed$MutationChance)\n",
    "\n",
    "means_per_municipality_seed %>%\n",
    "    filter(R < 15) %>%\n",
    "    filter(State == 'S') %>%\n",
    "    ggplot(aes(MutationChance, R)) + \n",
    "    geom_boxplot(aes(fill=CommuterFraction)) +\n",
    "    scale_fill_brewer() +\n",
    "    theme_minimal() +\n",
    "    labs(\n",
    "        x = 'Mutation Chance',\n",
    "        y = 'R',\n",
    "        title = 'Daily R for all municipalities',\n",
    "        subtitle = 'Seeded 0.5% in every municipality, run 60 days'\n",
    "    ) +\n",
    "    ylim(0,10) +\n",
    "    theme(legend.position=\"bottom\")"
   ]
  },
  {
   "cell_type": "code",
   "execution_count": null,
   "metadata": {},
   "outputs": [],
   "source": [
    "%R ggsave('boxplot_seedTrondheim10.png', plot = last_plot(), width = 8, height = 6, dpi=300, path='results/plots')"
   ]
  },
  {
   "source": [
    "### Mutation chance vs. commuter fraction, facet wrap Municipality"
   ],
   "cell_type": "markdown",
   "metadata": {}
  },
  {
   "cell_type": "code",
   "execution_count": null,
   "metadata": {
    "tags": []
   },
   "outputs": [],
   "source": [
    "%%R -i means_per_municipality\n",
    "means_per_municipality %>%\n",
    "    filter(R > 0.0) %>%\n",
    "    filter(State == 'S') %>%\n",
    "    ggplot(aes(x=MutationChance, y=CommuterFraction, color=log(R), size=log(R))) + \n",
    "    geom_point(alpha=0.6) +\n",
    "    theme_minimal() +\n",
    "    facet_wrap(~Municipality) + \n",
    "    scale_colour_viridis_c(guide = 'legend') +\n",
    "    #scale_size_continuous(range=c(-2,4)) + \n",
    "    labs(\n",
    "        x = 'Mutation Chance',\n",
    "        y = 'Commuter Fraction',\n",
    "        title = 'Daily R for each municipality'\n",
    "    )"
   ]
  },
  {
   "cell_type": "code",
   "execution_count": null,
   "metadata": {},
   "outputs": [],
   "source": [
    "%R ggsave('mutationchance_vs_commuterfrac_fw_municipality.png', plot = last_plot(), width = 8, height = 6, dpi=300, path='results/plots')"
   ]
  },
  {
   "source": [
    "### Mutation chance vs. commuter fraction, without facet wrap"
   ],
   "cell_type": "markdown",
   "metadata": {}
  },
  {
   "cell_type": "code",
   "execution_count": null,
   "metadata": {},
   "outputs": [],
   "source": [
    "%%R -i means\n",
    "means %>%\n",
    "    filter(R > 0.0) %>%\n",
    "    #filter(State == 'S') %>%\n",
    "    ggplot(aes(x=MutationChance, y=CommuterFraction, color=log(R), size=log(R))) + \n",
    "        geom_point(alpha=0.6) +\n",
    "        theme_minimal() +\n",
    "        scale_colour_viridis_c(guide = 'legend') +\n",
    "        scale_size_continuous() + \n",
    "        labs(\n",
    "            x = 'Mutation Chance',\n",
    "            y = 'Commuter Fraction',\n",
    "            title = 'Mean daily R'\n",
    "        )"
   ]
  },
  {
   "cell_type": "code",
   "execution_count": null,
   "metadata": {},
   "outputs": [],
   "source": [
    "%R ggsave('mutationchance_vs_commuterfrac.png', plot = last_plot(), width = 8, height = 6, dpi=300, path='results/plots')"
   ]
  },
  {
   "source": [
    "# Animated plots of daily R"
   ],
   "cell_type": "markdown",
   "metadata": {}
  },
  {
   "source": [
    "### Daily R with and without faceting for municipalities"
   ],
   "cell_type": "markdown",
   "metadata": {}
  },
  {
   "cell_type": "code",
   "execution_count": null,
   "metadata": {},
   "outputs": [],
   "source": [
    "%%R -i df\n",
    "\n",
    "animatedPlot <- df %>%\n",
    "    filter(State == 'S') %>%\n",
    "    ggplot(aes(x=MutationChance, y=CommuterFraction, size=log(R), color=log(R))) + \n",
    "    geom_point(alpha=0.6) +\n",
    "    theme_minimal() +\n",
    "    scale_colour_viridis_c(guide = 'legend') +\n",
    "    scale_size_continuous(range = c(-2.5, 5)) + \n",
    "    guides(color=guide_legend(), size=guide_legend()) +\n",
    "    labs(\n",
    "        x = 'Mutation Chance',\n",
    "        y  = 'Commuter Fraction',\n",
    "        title = 'Daily R',\n",
    "        subtitle = 'R for day: {frame_time}/30'\n",
    "    ) +\n",
    "    transition_time(Day) +\n",
    "    ease_aes('linear') +\n",
    "    enter_fade() + \n",
    "    exit_shrink()\n",
    "\n",
    "#animate(animatedPlot, duration = 7, fps = 4, width = 800, height = 600,renderer = gifski_renderer())\n",
    "#anim_save('mutationchance_vs_commuterfrac.gif', path='results/plots')"
   ]
  },
  {
   "cell_type": "code",
   "execution_count": null,
   "metadata": {},
   "outputs": [],
   "source": [
    "%%R \n",
    "animatedPlotFacet <- animatedPlot + \n",
    "    facet_wrap(~Municipality)\n",
    "#animate(animatedPlotFacet, duration = 7, fps = 4, width = 800, height = 600, renderer = gifski_renderer())\n",
    "#anim_save('mutationchance_vs_commuterfrac_fw_municipality.gif', path='results/plots')"
   ]
  },
  {
   "source": [
    "# Adding population data to the data frame\n",
    "Population size, area, and derivatives of these two"
   ],
   "cell_type": "markdown",
   "metadata": {}
  },
  {
   "cell_type": "code",
   "execution_count": null,
   "metadata": {},
   "outputs": [],
   "source": [
    "data = df.merge(municipality_data, left_on='Municipality', right_on='Name').drop(['Name','Number','County'],axis=1)\n",
    "data['PopDensity'] = data['Population']/data['Area']\n",
    "data['CountPerPop'] = data['Count']/data['Population']\n",
    "data['CountPerPopDensity'] = data['Count']/data['PopDensity']\n",
    "data"
   ]
  },
  {
   "source": [
    "## SIR plots\n",
    "With no commuting and mutations"
   ],
   "cell_type": "markdown",
   "metadata": {}
  },
  {
   "cell_type": "code",
   "execution_count": null,
   "metadata": {},
   "outputs": [],
   "source": [
    "%%R -i data\n",
    "data %>%\n",
    "    filter(State %in% c('E','I','R','D')) %>% \n",
    "    filter(CommuterFraction == 0.0 & MutationChance == 0.0) %>%\n",
    "    ggplot(aes(x=Day, y=log(Count), color=State)) +\n",
    "    geom_line(alpha=0.8) + \n",
    "    facet_wrap(~Municipality) +\n",
    "    theme_minimal() + \n",
    "    scale_colour_brewer(palette = \"Set1\") + \n",
    "    labs(\n",
    "        x  = 'Day',\n",
    "        y = 'log(Count)',\n",
    "        title = 'SIR for Trondheim region'\n",
    "    )"
   ]
  },
  {
   "cell_type": "code",
   "execution_count": null,
   "metadata": {},
   "outputs": [],
   "source": [
    "%R ggsave('Trondheim_SIR.png', plot = last_plot(), width = 8, height = 6, dpi=300, path='results/plots')"
   ]
  },
  {
   "source": [
    "Same, but with numbers divided by population size"
   ],
   "cell_type": "markdown",
   "metadata": {}
  },
  {
   "cell_type": "code",
   "execution_count": null,
   "metadata": {},
   "outputs": [],
   "source": [
    "%%R -i data\n",
    "data %>%\n",
    "    filter(State %in% c('E','I','R','D')) %>% \n",
    "    filter(CommuterFraction == 0.0 & MutationChance == 0.0) %>%\n",
    "    ggplot(aes(x=Day, y=CountPerPop, color=State)) +\n",
    "    geom_line(alpha=0.8) + \n",
    "    facet_wrap(~Municipality) +\n",
    "    theme_minimal() + \n",
    "    scale_colour_brewer(palette=\"Set1\") + \n",
    "    labs(\n",
    "        x  = 'Day',\n",
    "        y = 'Count / Population',\n",
    "        title = 'SIR for Trondheim region',\n",
    "        subtitle = 'Divided by population size'\n",
    "    )"
   ]
  },
  {
   "cell_type": "code",
   "execution_count": null,
   "metadata": {},
   "outputs": [],
   "source": [
    "%R ggsave('Trondheim_SIR_perPop.png', plot = last_plot(), width = 8, height = 6, dpi=300, path='results/plots')"
   ]
  },
  {
   "cell_type": "code",
   "execution_count": null,
   "metadata": {},
   "outputs": [],
   "source": [
    "%%R -i data\n",
    "data %>%\n",
    "    filter(State %in% c('E','I','R','D')) %>% \n",
    "    filter(CommuterFraction == 0.0 & MutationChance == 0.0) %>%\n",
    "    ggplot(aes(x=Day, y=log(CountPerPopDensity), color=State)) +\n",
    "    geom_line(alpha=0.8) + \n",
    "    facet_wrap(~Municipality) +\n",
    "    theme_minimal() + \n",
    "    scale_colour_brewer(palette=\"Set1\") + \n",
    "    labs(\n",
    "        x  = 'Day',\n",
    "        y = 'Count / Population density',\n",
    "        title = 'SIR for Trondheim region',\n",
    "        subtitle = 'Divided by population density'\n",
    "    )"
   ]
  },
  {
   "cell_type": "code",
   "execution_count": null,
   "metadata": {},
   "outputs": [],
   "source": [
    "%R ggsave('Trondheim_SIR_perPopDensity.png', plot = last_plot(), width = 8, height = 6, dpi=300, path='results/plots')"
   ]
  },
  {
   "cell_type": "code",
   "execution_count": null,
   "metadata": {},
   "outputs": [],
   "source": [
    "%%R -i data\n",
    "data %>%\n",
    "    #filter(Municipality=='Trondheim') %>%\n",
    "    filter(State=='S') %>%\n",
    "    ggplot(aes(x=log(PopDensity), y=log(R), color=MutationChance)) + \n",
    "    geom_jitter(alpha=0.2) +\n",
    "    facet_wrap(~Day) + \n",
    "    theme_minimal() +\n",
    "    scale_colour_viridis_c(guide = 'legend') +\n",
    "    scale_size_continuous(range = c(-2, 5)) + \n",
    "    guides(color=guide_legend(), size=guide_legend())"
   ]
  },
  {
   "source": [
    "## Histogram"
   ],
   "cell_type": "markdown",
   "metadata": {}
  },
  {
   "cell_type": "code",
   "execution_count": null,
   "metadata": {},
   "outputs": [],
   "source": [
    "%%R -i data\n",
    "data %>%\n",
    "    ggplot(aes(x = Day, y=log(R), colour=log(R), size=log(R))) +  \n",
    "    geom_point(alpha=0.2) + \n",
    "    facet_wrap(~Municipality) + \n",
    "    theme_minimal() +\n",
    "    scale_colour_viridis()"
   ]
  },
  {
   "cell_type": "code",
   "execution_count": null,
   "metadata": {},
   "outputs": [],
   "source": [
    "mean = means_commute.groupby(['MutationChance','CommuterFraction']).mean().reset_index()\n",
    "cont = plt.tricontourf(mean['MutationChance'], mean['CommuterFraction'], mean['R'])\n",
    "cbar = plt.colorbar(cont, shrink=0.8)\n",
    "cbar.ax.set_ylabel('Daily R')\n",
    "plt.xlabel('Mutation Chance')\n",
    "plt.ylabel('Commuter prevalence')\n",
    "plt.savefig('results/plots/contour_plot_mutations.png', dpi=500)"
   ]
  },
  {
   "cell_type": "code",
   "execution_count": null,
   "metadata": {},
   "outputs": [],
   "source": [
    "df"
   ]
  },
  {
   "cell_type": "code",
   "execution_count": null,
   "metadata": {},
   "outputs": [],
   "source": [
    "%%R -i df\n",
    "df %>%\n",
    "    ggplot(aes(x=Day, y=log(R), colour=log(R))) +  \n",
    "    geom_boxplot() + \n",
    "    facet_wrap(~Municipality) + \n",
    "    theme_minimal()"
   ]
  },
  {
   "source": [
    "# Python plots\n",
    "To be made into automated functions later. Probably..."
   ],
   "cell_type": "markdown",
   "metadata": {}
  },
  {
   "cell_type": "code",
   "execution_count": null,
   "metadata": {},
   "outputs": [],
   "source": [
    "df = pd.read_csv(\"results/summaries/combinedResults_mutationsSeed0.005.txt\")\n",
    "#df = pd.read_csv(\"results/summaries/combinedResults_mutations.txt\")\n",
    "df = df.groupby(['Municipality','CommuterFraction','MutationChance','Day']).mean().reset_index().drop(['RunID'],axis=1)\n",
    "df['I'] = df[['Ia','Ip','Is']].sum(axis=1)\n",
    "df.drop(['Ia','Ip','Is'], axis=1)\n",
    "df = pd.melt(df, id_vars=['CommuterFraction','MutationChance','Municipality','Day','DailyR'], value_vars=['S','E','I','R','H','ICU','D'],var_name='State',value_name='Count')\n",
    "df = df.rename(columns={'DailyR':'R'})\n",
    "df"
   ]
  },
  {
   "cell_type": "code",
   "execution_count": null,
   "metadata": {},
   "outputs": [],
   "source": [
    "means = df.groupby(['CommuterFraction','MutationChance']).mean().reset_index().drop(['Day','Count'],axis=1)\n",
    "means.head()"
   ]
  },
  {
   "cell_type": "code",
   "execution_count": null,
   "metadata": {},
   "outputs": [],
   "source": [
    "m = means.pivot(\"CommuterFraction\", \"MutationChance\", \"R\")\n",
    "sns.heatmap(m,cmap=\"YlGnBu\");"
   ]
  },
  {
   "cell_type": "code",
   "execution_count": null,
   "metadata": {},
   "outputs": [],
   "source": [
    "means = df.groupby(['CommuterFraction','MutationChance']).mean().reset_index().drop(['Day','Count'],axis=1)\n",
    "sns.boxplot(x=\"MutationChance\", y=\"R\",hue=\"CommuterFraction\",data=df);"
   ]
  },
  {
   "source": [
    "# Looking at peaks and timing"
   ],
   "cell_type": "markdown",
   "metadata": {}
  },
  {
   "cell_type": "code",
   "execution_count": null,
   "metadata": {},
   "outputs": [],
   "source": [
    "def findDayOfMaxR(df):\n",
    "    data = df.drop(['State','Count'], axis=1)\n",
    "    data = data.loc[data.groupby(['CommuterFraction','MutationChance','Municipality'])['R'].idxmax()]\n",
    "    return data"
   ]
  },
  {
   "cell_type": "code",
   "execution_count": null,
   "metadata": {},
   "outputs": [],
   "source": [
    "df = data_wrangle(pd.read_csv(\"results/summaries/combinedResults_mutations.txt\")).dropna(axis=0)\n",
    "df\n",
    "#df = findDayOfMaxR(df)"
   ]
  },
  {
   "cell_type": "code",
   "execution_count": null,
   "metadata": {},
   "outputs": [],
   "source": [
    "comb.dropna(axis=0)"
   ]
  },
  {
   "cell_type": "code",
   "execution_count": null,
   "metadata": {},
   "outputs": [],
   "source": [
    "comb_day = findDayOfMaxR(comb.dropna(axis=0))\n",
    "comb_day"
   ]
  },
  {
   "cell_type": "code",
   "execution_count": null,
   "metadata": {},
   "outputs": [],
   "source": []
  },
  {
   "cell_type": "code",
   "execution_count": null,
   "metadata": {},
   "outputs": [],
   "source": [
    "%%R -i comb_day\n",
    "peak_R_fw <- comb_day %>%\n",
    "filter(Day < 30) %>%\n",
    "    ggplot(aes(x=Day, y=R, color=Seed)) +\n",
    "    geom_point(alpha=0.4) +\n",
    "    facet_wrap(~Municipality) +\n",
    "    ylim(0,50) + \n",
    "    theme_minimal() +\n",
    "    scale_colour_brewer(type='qual', palette='Set1') +\n",
    "    labs(\n",
    "        title='Day of peak R',\n",
    "        y = 'Peak R value',\n",
    "        x = 'Day of highest R'\n",
    "    )\n",
    "peak_R_fw"
   ]
  },
  {
   "cell_type": "code",
   "execution_count": null,
   "metadata": {},
   "outputs": [],
   "source": [
    "%R ggsave('peak_R_fw.png', plot = last_plot(), width = 8, height = 6, dpi=300, path='results/plots')"
   ]
  },
  {
   "cell_type": "code",
   "execution_count": null,
   "metadata": {},
   "outputs": [],
   "source": [
    "%%R\n",
    "peak_R_fw_trendline <- peak_R_fw + \n",
    "    geom_smooth(formula=y~x, method='loess', alpha=0.5)\n",
    "peak_R_fw_trendline"
   ]
  },
  {
   "cell_type": "code",
   "execution_count": null,
   "metadata": {},
   "outputs": [],
   "source": [
    "%R ggsave('peak_R_fw_trendline.png', plot = last_plot(), width = 8, height = 6, dpi=300, path='results/plots')"
   ]
  },
  {
   "cell_type": "code",
   "execution_count": null,
   "metadata": {},
   "outputs": [],
   "source": [
    "%%R -i comb_day\n",
    "\n",
    "peak_R <- comb_day %>%\n",
    "filter(Day < 30 & Day > 1) %>%\n",
    "    ggplot(aes(x=Day, y=R, color=Seed)) +\n",
    "    geom_point(alpha=0.4) +\n",
    "    #geom_smooth(formula=y~x, method='lm', alpha=0.5) +\n",
    "    ylim(0,50) + \n",
    "    theme_minimal() +\n",
    "    scale_colour_brewer(type='qual', palette='Set1') +\n",
    "    labs(\n",
    "        title='Day of peak R',\n",
    "        y = 'Peak R value',\n",
    "        x = 'Day of highest R'\n",
    "    )\n",
    "peak_R"
   ]
  },
  {
   "cell_type": "code",
   "execution_count": null,
   "metadata": {},
   "outputs": [],
   "source": [
    "%R ggsave('peak_R.png', plot = last_plot(), width = 8, height = 6, dpi=300, path='results/plots')"
   ]
  },
  {
   "cell_type": "code",
   "execution_count": null,
   "metadata": {},
   "outputs": [],
   "source": [
    "%%R\n",
    "peak_R_trendline <- peak_R + \n",
    "    geom_smooth(formula=y~x, method='loess', alpha=0.5)\n",
    "peak_R_trendline"
   ]
  },
  {
   "cell_type": "code",
   "execution_count": null,
   "metadata": {},
   "outputs": [],
   "source": [
    "%R ggsave('peak_R_trendline.png', plot = last_plot(), width = 8, height = 6, dpi=300, path='results/plots')"
   ]
  },
  {
   "cell_type": "code",
   "execution_count": null,
   "metadata": {},
   "outputs": [],
   "source": [
    "%%R -i comb_day\n",
    "comb_day$CommuterFraction <- factor(comb_day$CommuterFraction)\n",
    "comb_day$MutationChance <- factor(comb_day$MutationChance)\n",
    "\n",
    "comb_day %>%\n",
    "    filter(MutationChance==0.0) %>%\n",
    "    filter(Day < 30 & Day > 1) %>%\n",
    "    #filter(CommuterFraction==0.0 & MutationChance==0.0) %>%\n",
    "    ggplot(aes(x=Day, y=Municipality, color=Seed, size=R)) +\n",
    "    geom_point(alpha=0.6) +\n",
    "    facet_wrap(~CommuterFraction) +\n",
    "    theme_minimal()"
   ]
  },
  {
   "cell_type": "code",
   "execution_count": null,
   "metadata": {},
   "outputs": [],
   "source": [
    "%R ggsave('whatever_this_is.png', plot = last_plot(), width = 8, height = 6, dpi=300, path='results/plots')"
   ]
  },
  {
   "cell_type": "code",
   "execution_count": null,
   "metadata": {},
   "outputs": [],
   "source": [
    "%%R -i comb_day\n",
    "\n",
    "density_ridge <- comb_day %>%\n",
    "    #filter(MutationChance==0.0) %>%\n",
    "    #filter(CommuterFraction==0.0 & MutationChance==0.0) %>%\n",
    "    ggplot(aes(x=Day, y=Municipality, fill=Seed)) +\n",
    "    geom_density_ridges(alpha=0.4, rel_min_height=0.05, bandwidth = 1) +\n",
    "    theme_ridges(grid = FALSE) +\n",
    "    scale_fill_brewer(type='qual', palette='Set1') +\n",
    "    theme_minimal() +\n",
    "    labs(\n",
    "        x = 'Day of peak R',\n",
    "        y = 'Municipality',\n",
    "        title = 'Day of peak R value',\n",
    "        subtitle = 'For all municipalities'\n",
    "    ) +\n",
    "    xlim(1,30) +\n",
    "    theme(legend.position=\"bottom\")\n",
    "density_ridge"
   ]
  },
  {
   "cell_type": "code",
   "execution_count": null,
   "metadata": {},
   "outputs": [],
   "source": [
    "%R ggsave('density_ridge_R_day.png', plot = last_plot(), width = 8, height = 6, dpi=300, path='results/plots')"
   ]
  },
  {
   "cell_type": "code",
   "execution_count": null,
   "metadata": {},
   "outputs": [],
   "source": [
    "%%R \n",
    "density_ridge + facet_grid(MutationChance~CommuterFraction)"
   ]
  },
  {
   "cell_type": "code",
   "execution_count": null,
   "metadata": {},
   "outputs": [],
   "source": [
    "dat = comb#comb[comb['State']=='E']\n",
    "comb_State = dat.loc[dat.groupby(['CommuterFraction','MutationChance','Municipality','State'])['Count'].idxmax()]\n",
    "comb_State\n"
   ]
  },
  {
   "cell_type": "code",
   "execution_count": null,
   "metadata": {},
   "outputs": [],
   "source": [
    "%%R -i comb_State\n",
    "\n",
    "comb_State %>%\n",
    "    filter(State %in% c('E','I','H','ICU')) %>% \n",
    "    #filter(CommuterFraction==0.0 & MutationChance==0.0) %>%\n",
    "    ggplot(aes(x=Day, y=Municipality, fill=Seed)) +\n",
    "    geom_density_ridges(alpha=0.4, rel_min_height=0.05, bandwidth = 1) +\n",
    "    scale_fill_brewer(type='qual', palette='Set1') +\n",
    "    theme_ridges(grid = FALSE) +\n",
    "    theme_minimal() +\n",
    "    facet_wrap(~State, scales='free_y') + \n",
    "    #facet_grid(MutationChance~CommuterFraction, labeller = label_both) +\n",
    "    labs(\n",
    "        x = 'Day of peak',\n",
    "        y = 'Municipality',\n",
    "        title = 'Day of peak for each state',\n",
    "        subtitle = 'For all municipalities',\n",
    "        fill = 'Seed method'\n",
    "    ) +\n",
    "    theme(\n",
    "        axis.text.y = element_text(size=5),\n",
    "        legend.position=\"bottom\"\n",
    "    )"
   ]
  },
  {
   "cell_type": "code",
   "execution_count": null,
   "metadata": {},
   "outputs": [],
   "source": [
    "%R ggsave('density_ridge_state_day.png', plot = last_plot(), width = 8, height = 6, dpi=300, path='results/plots')"
   ]
  },
  {
   "source": [
    "## Plot of base simulations parameters\n",
    "No commuting and no mutations, seeded in all municipalitites"
   ],
   "cell_type": "markdown",
   "metadata": {}
  },
  {
   "cell_type": "code",
   "execution_count": 3,
   "metadata": {},
   "outputs": [
    {
     "output_type": "execute_result",
     "data": {
      "text/plain": [
       "                                                         R          \n",
       "                                                      mean       std\n",
       "Municipality CommuterFraction MutationChance Day                    \n",
       "Flatanger    0.0              0.0            2    0.000000  0.000000\n",
       "                                             3    7.721286  9.008313\n",
       "                                             4    5.151286  6.635569\n",
       "                                             5    1.290000  2.060806\n",
       "                                             6    0.968857  2.397799\n",
       "...                                                    ...       ...\n",
       "Ørland       1.0              1.0            56   1.008857  0.218969\n",
       "                                             57   0.897571  0.399197\n",
       "                                             58   0.725571  0.376879\n",
       "                                             59   1.008000  0.334900\n",
       "                                             60   0.775714  0.301610\n",
       "\n",
       "[39645 rows x 2 columns]"
      ],
      "text/html": "<div>\n<style scoped>\n    .dataframe tbody tr th:only-of-type {\n        vertical-align: middle;\n    }\n\n    .dataframe tbody tr th {\n        vertical-align: top;\n    }\n\n    .dataframe thead tr th {\n        text-align: left;\n    }\n\n    .dataframe thead tr:last-of-type th {\n        text-align: right;\n    }\n</style>\n<table border=\"1\" class=\"dataframe\">\n  <thead>\n    <tr>\n      <th></th>\n      <th></th>\n      <th></th>\n      <th></th>\n      <th colspan=\"2\" halign=\"left\">R</th>\n    </tr>\n    <tr>\n      <th></th>\n      <th></th>\n      <th></th>\n      <th></th>\n      <th>mean</th>\n      <th>std</th>\n    </tr>\n    <tr>\n      <th>Municipality</th>\n      <th>CommuterFraction</th>\n      <th>MutationChance</th>\n      <th>Day</th>\n      <th></th>\n      <th></th>\n    </tr>\n  </thead>\n  <tbody>\n    <tr>\n      <th rowspan=\"5\" valign=\"top\">Flatanger</th>\n      <th rowspan=\"5\" valign=\"top\">0.0</th>\n      <th rowspan=\"5\" valign=\"top\">0.0</th>\n      <th>2</th>\n      <td>0.000000</td>\n      <td>0.000000</td>\n    </tr>\n    <tr>\n      <th>3</th>\n      <td>7.721286</td>\n      <td>9.008313</td>\n    </tr>\n    <tr>\n      <th>4</th>\n      <td>5.151286</td>\n      <td>6.635569</td>\n    </tr>\n    <tr>\n      <th>5</th>\n      <td>1.290000</td>\n      <td>2.060806</td>\n    </tr>\n    <tr>\n      <th>6</th>\n      <td>0.968857</td>\n      <td>2.397799</td>\n    </tr>\n    <tr>\n      <th>...</th>\n      <th>...</th>\n      <th>...</th>\n      <th>...</th>\n      <td>...</td>\n      <td>...</td>\n    </tr>\n    <tr>\n      <th rowspan=\"5\" valign=\"top\">Ørland</th>\n      <th rowspan=\"5\" valign=\"top\">1.0</th>\n      <th rowspan=\"5\" valign=\"top\">1.0</th>\n      <th>56</th>\n      <td>1.008857</td>\n      <td>0.218969</td>\n    </tr>\n    <tr>\n      <th>57</th>\n      <td>0.897571</td>\n      <td>0.399197</td>\n    </tr>\n    <tr>\n      <th>58</th>\n      <td>0.725571</td>\n      <td>0.376879</td>\n    </tr>\n    <tr>\n      <th>59</th>\n      <td>1.008000</td>\n      <td>0.334900</td>\n    </tr>\n    <tr>\n      <th>60</th>\n      <td>0.775714</td>\n      <td>0.301610</td>\n    </tr>\n  </tbody>\n</table>\n<p>39645 rows × 2 columns</p>\n</div>"
     },
     "metadata": {},
     "execution_count": 3
    }
   ],
   "source": [
    "df = pd.read_csv('results/summaries/combinedResults_mutations_commutersSeed0.001.txt')\n",
    "df['I'] = df[['Ia','Ip','Is']].sum(axis=1)\n",
    "df.drop(['Ia','Ip','Is'], axis=1)\n",
    "df = pd.melt(df, id_vars=['CommuterFraction','MutationChance','Municipality','Day','DailyR', 'RunID'], value_vars=['S','E','I','R','H','ICU','D'], var_name='State', value_name='Count')\n",
    "df = df.rename(columns={'DailyR':'R'})\n",
    "df\n",
    "#mean = df.groupby(['Municipality','CommuterFraction','MutationChance','Day']).mean().reset_index().drop(['RunID'],axis=1)\n",
    "df.dropna(inplace=True)\n",
    "mean_R = df.groupby(['Municipality','CommuterFraction','MutationChance','Day']).agg({'R':['mean','std']})\n",
    "mean_state = df.groupby(['Municipality','CommuterFraction','MutationChance','Day','State']).agg({'R':['mean','std'], 'Count':['mean','std']})\n",
    "mean_R"
   ]
  },
  {
   "cell_type": "code",
   "execution_count": 77,
   "metadata": {},
   "outputs": [],
   "source": [
    "#['_'.join(col).strip() for col in mean_R.columns.values]\n",
    "mean_R.columns = mean_R.columns.to_flat_index()\n",
    "#stats.columns.get_level_values(0)\n",
    "#stats.reset_index()\n",
    "#stats['R']['std']"
   ]
  },
  {
   "cell_type": "code",
   "execution_count": 4,
   "metadata": {},
   "outputs": [
    {
     "output_type": "execute_result",
     "data": {
      "text/plain": [
       "         CommuterFraction  MutationChance Municipality  Day      R  RunID  \\\n",
       "1                     0.0             0.0    Trondheim    2  3.299      1   \n",
       "2                     0.0             0.0    Trondheim    3  3.497      1   \n",
       "3                     0.0             0.0    Trondheim    4  2.853      1   \n",
       "4                     0.0             0.0    Trondheim    5  2.263      1   \n",
       "5                     0.0             0.0    Trondheim    6  2.705      1   \n",
       "...                   ...             ...          ...  ...    ...    ...   \n",
       "2204995               1.0             1.0       Åfjord   56  1.241      7   \n",
       "2204996               1.0             1.0       Åfjord   57  0.777      7   \n",
       "2204997               1.0             1.0       Åfjord   58  0.870      7   \n",
       "2204998               1.0             1.0       Åfjord   59  1.166      7   \n",
       "2204999               1.0             1.0       Åfjord   60  0.742      7   \n",
       "\n",
       "        State   Count  \n",
       "1           S  208349  \n",
       "2           S  208290  \n",
       "3           S  208227  \n",
       "4           S  208167  \n",
       "5           S  208080  \n",
       "...       ...     ...  \n",
       "2204995     D      26  \n",
       "2204996     D      28  \n",
       "2204997     D      29  \n",
       "2204998     D      29  \n",
       "2204999     D      32  \n",
       "\n",
       "[1737190 rows x 8 columns]"
      ],
      "text/html": "<div>\n<style scoped>\n    .dataframe tbody tr th:only-of-type {\n        vertical-align: middle;\n    }\n\n    .dataframe tbody tr th {\n        vertical-align: top;\n    }\n\n    .dataframe thead th {\n        text-align: right;\n    }\n</style>\n<table border=\"1\" class=\"dataframe\">\n  <thead>\n    <tr style=\"text-align: right;\">\n      <th></th>\n      <th>CommuterFraction</th>\n      <th>MutationChance</th>\n      <th>Municipality</th>\n      <th>Day</th>\n      <th>R</th>\n      <th>RunID</th>\n      <th>State</th>\n      <th>Count</th>\n    </tr>\n  </thead>\n  <tbody>\n    <tr>\n      <th>1</th>\n      <td>0.0</td>\n      <td>0.0</td>\n      <td>Trondheim</td>\n      <td>2</td>\n      <td>3.299</td>\n      <td>1</td>\n      <td>S</td>\n      <td>208349</td>\n    </tr>\n    <tr>\n      <th>2</th>\n      <td>0.0</td>\n      <td>0.0</td>\n      <td>Trondheim</td>\n      <td>3</td>\n      <td>3.497</td>\n      <td>1</td>\n      <td>S</td>\n      <td>208290</td>\n    </tr>\n    <tr>\n      <th>3</th>\n      <td>0.0</td>\n      <td>0.0</td>\n      <td>Trondheim</td>\n      <td>4</td>\n      <td>2.853</td>\n      <td>1</td>\n      <td>S</td>\n      <td>208227</td>\n    </tr>\n    <tr>\n      <th>4</th>\n      <td>0.0</td>\n      <td>0.0</td>\n      <td>Trondheim</td>\n      <td>5</td>\n      <td>2.263</td>\n      <td>1</td>\n      <td>S</td>\n      <td>208167</td>\n    </tr>\n    <tr>\n      <th>5</th>\n      <td>0.0</td>\n      <td>0.0</td>\n      <td>Trondheim</td>\n      <td>6</td>\n      <td>2.705</td>\n      <td>1</td>\n      <td>S</td>\n      <td>208080</td>\n    </tr>\n    <tr>\n      <th>...</th>\n      <td>...</td>\n      <td>...</td>\n      <td>...</td>\n      <td>...</td>\n      <td>...</td>\n      <td>...</td>\n      <td>...</td>\n      <td>...</td>\n    </tr>\n    <tr>\n      <th>2204995</th>\n      <td>1.0</td>\n      <td>1.0</td>\n      <td>Åfjord</td>\n      <td>56</td>\n      <td>1.241</td>\n      <td>7</td>\n      <td>D</td>\n      <td>26</td>\n    </tr>\n    <tr>\n      <th>2204996</th>\n      <td>1.0</td>\n      <td>1.0</td>\n      <td>Åfjord</td>\n      <td>57</td>\n      <td>0.777</td>\n      <td>7</td>\n      <td>D</td>\n      <td>28</td>\n    </tr>\n    <tr>\n      <th>2204997</th>\n      <td>1.0</td>\n      <td>1.0</td>\n      <td>Åfjord</td>\n      <td>58</td>\n      <td>0.870</td>\n      <td>7</td>\n      <td>D</td>\n      <td>29</td>\n    </tr>\n    <tr>\n      <th>2204998</th>\n      <td>1.0</td>\n      <td>1.0</td>\n      <td>Åfjord</td>\n      <td>59</td>\n      <td>1.166</td>\n      <td>7</td>\n      <td>D</td>\n      <td>29</td>\n    </tr>\n    <tr>\n      <th>2204999</th>\n      <td>1.0</td>\n      <td>1.0</td>\n      <td>Åfjord</td>\n      <td>60</td>\n      <td>0.742</td>\n      <td>7</td>\n      <td>D</td>\n      <td>32</td>\n    </tr>\n  </tbody>\n</table>\n<p>1737190 rows × 8 columns</p>\n</div>"
     },
     "metadata": {},
     "execution_count": 4
    }
   ],
   "source": [
    "#%%R -i mean_R\n",
    "#mean_R"
   ]
  },
  {
   "cell_type": "code",
   "execution_count": null,
   "metadata": {},
   "outputs": [],
   "source": []
  }
 ]
}